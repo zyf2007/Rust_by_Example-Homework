{
  "cells": [
    {
      "cell_type": "markdown",
      "metadata": {},
      "source": [
        "# 变量绑定\n",
        "\n",
        "Rust 通过静态类型确保类型安全。变量绑定可以在声明时说明类型，不过在多数情况下，编译器能够从上下文推导出变量的类型，从而大大减少了类型说明的工作。\n",
        "\n",
        "使用 `let` 绑定操作可以将值（比如字面量）绑定（bind）到变量。\n",
        "\n"
      ]
    },
    {
      "cell_type": "code",
      "execution_count": null,
      "metadata": {
        "vscode": {
          "languageId": "rust"
        }
      },
      "outputs": [
        {
          "name": "stdout",
          "output_type": "stream",
          "text": [
            "An integer: 1\n",
            "A boolean: true\n",
            "Meet the unit value: ()\n"
          ]
        },
        {
          "ename": "",
          "evalue": "",
          "output_type": "error",
          "traceback": [
            "\u001b[1;31m在当前单元格或上一个单元格中执行代码时 Kernel 崩溃。\n",
            "\u001b[1;31m请查看单元格中的代码，以确定故障的可能原因。\n",
            "\u001b[1;31m单击<a href='https://aka.ms/vscodeJupyterKernelCrash'>此处</a>了解详细信息。\n",
            "\u001b[1;31m有关更多详细信息，请查看 Jupyter <a href='command:jupyter.viewOutput'>log</a>。"
          ]
        }
      ],
      "source": [
        "fn main() {\n",
        "    let an_integer = 1u32;\n",
        "    let a_boolean = true;\n",
        "    let unit = ();\n",
        "\n",
        "    // 将 `an_integer` 复制到 `copied_integer`\n",
        "    let copied_integer = an_integer;\n",
        "\n",
        "    println!(\"An integer: {:?}\", copied_integer);\n",
        "    println!(\"A boolean: {:?}\", a_boolean);\n",
        "    println!(\"Meet the unit value: {:?}\", unit);\n",
        "\n",
        "    // 编译器会对未使用的变量绑定产生警告；可以给变量名加上下划线前缀来消除警告。\n",
        "    let _unused_variable = 3u32;\n",
        "\n",
        "    let _noisy_unused_variable = 2u32;\n",
        "    // 改正 ^ 在变量名前加上下划线以消除警告\n",
        "}\n",
        "main();\n"
      ]
    },
    {
      "cell_type": "markdown",
      "metadata": {},
      "source": [
        "\n"
      ]
    }
  ],
  "metadata": {
    "kernelspec": {
      "display_name": "Rust",
      "language": "rust",
      "name": "rust"
    },
    "language_info": {
      "codemirror_mode": "rust",
      "file_extension": ".rs",
      "mimetype": "text/rust",
      "name": "Rust",
      "pygment_lexer": "rust",
      "version": ""
    }
  },
  "nbformat": 4,
  "nbformat_minor": 5
}
